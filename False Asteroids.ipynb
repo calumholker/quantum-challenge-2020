{
 "metadata": {
  "language_info": {
   "codemirror_mode": {
    "name": "ipython",
    "version": 3
   },
   "file_extension": ".py",
   "mimetype": "text/x-python",
   "name": "python",
   "nbconvert_exporter": "python",
   "pygments_lexer": "ipython3",
   "version": "3.7.4-final"
  },
  "orig_nbformat": 2,
  "kernelspec": {
   "name": "python3",
   "display_name": "Python 3"
  }
 },
 "nbformat": 4,
 "nbformat_minor": 2,
 "cells": [
  {
   "source": [
    "## Week 3 Final Challenge"
   ],
   "cell_type": "markdown",
   "metadata": {}
  },
  {
   "cell_type": "code",
   "execution_count": 108,
   "metadata": {},
   "outputs": [
    {
     "output_type": "stream",
     "name": "stderr",
     "text": [
      "ibmqfactory.load_account:WARNING:2020-11-25 13:06:48,610: Credentials are already in use. The existing account in the session will be replaced.\n"
     ]
    }
   ],
   "source": [
    "import numpy as np\n",
    "from qiskit import IBMQ, QuantumCircuit, Aer, execute, QuantumRegister, ClassicalRegister\n",
    "from qiskit.tools.jupyter import *\n",
    "from qiskit.quantum_info import Operator\n",
    "from qiskit.visualization import plot_histogram\n",
    "%matplotlib inline\n",
    "from qiskit import QuantumCircuit\n",
    "from qiskit.compiler import transpile\n",
    "from qiskit.transpiler import PassManager\n",
    "import matplotlib.pyplot as plt\n",
    "provider = IBMQ.load_account()\n",
    "backend = provider.get_backend('ibmq_qasm_simulator')"
   ]
  },
  {
   "cell_type": "code",
   "execution_count": 2,
   "metadata": {},
   "outputs": [],
   "source": [
    "problem_set = \\\n",
    "    [[['0', '2'], ['1', '0'], ['1', '2'], ['1', '3'], ['2', '0'], ['3', '3']],\n",
    "    [['0', '0'], ['0', '1'], ['1', '2'], ['2', '2'], ['3', '0'], ['3', '3']],\n",
    "    [['0', '0'], ['1', '1'], ['1', '3'], ['2', '0'], ['3', '2'], ['3', '3']],\n",
    "    [['0', '0'], ['0', '1'], ['1', '1'], ['1', '3'], ['3', '2'], ['3', '3']],\n",
    "    [['0', '2'], ['1', '0'], ['1', '3'], ['2', '0'], ['3', '2'], ['3', '3']],\n",
    "    [['1', '1'], ['1', '2'], ['2', '0'], ['2', '1'], ['3', '1'], ['3', '3']],\n",
    "    [['0', '2'], ['0', '3'], ['1', '2'], ['2', '0'], ['2', '1'], ['3', '3']],\n",
    "    [['0', '0'], ['0', '3'], ['1', '2'], ['2', '2'], ['2', '3'], ['3', '0']],\n",
    "    [['0', '3'], ['1', '1'], ['1', '2'], ['2', '0'], ['2', '1'], ['3', '3']],\n",
    "    [['0', '0'], ['0', '1'], ['1', '3'], ['2', '1'], ['2', '3'], ['3', '0']],\n",
    "    [['0', '1'], ['0', '3'], ['1', '2'], ['1', '3'], ['2', '0'], ['3', '2']],\n",
    "    [['0', '0'], ['1', '3'], ['2', '0'], ['2', '1'], ['2', '3'], ['3', '1']],\n",
    "    [['0', '1'], ['0', '2'], ['1', '0'], ['1', '2'], ['2', '2'], ['2', '3']],\n",
    "    [['0', '3'], ['1', '0'], ['1', '3'], ['2', '1'], ['2', '2'], ['3', '0']],\n",
    "    [['0', '2'], ['0', '3'], ['1', '2'], ['2', '3'], ['3', '0'], ['3', '1']],\n",
    "    [['0', '1'], ['1', '0'], ['1', '2'], ['2', '2'], ['3', '0'], ['3', '1']]]"
   ]
  },
  {
   "cell_type": "code",
   "execution_count": 59,
   "metadata": {},
   "outputs": [
    {
     "output_type": "stream",
     "name": "stdout",
     "text": [
      "[[0, 5, 10, 15], [0, 5, 11, 14], [0, 6, 9, 15], [0, 6, 11, 13], [0, 7, 9, 14], [0, 7, 10, 13], [1, 4, 10, 15], [1, 4, 11, 14], [1, 6, 8, 15], [1, 6, 11, 12], [1, 7, 8, 14], [1, 7, 10, 12], [2, 4, 9, 15], [2, 4, 11, 13], [2, 5, 8, 15], [2, 5, 11, 12], [2, 7, 8, 13], [2, 7, 9, 12], [3, 4, 9, 14], [3, 4, 10, 13], [3, 5, 8, 14], [3, 5, 10, 12], [3, 6, 8, 13], [3, 6, 9, 12]]\n"
     ]
    }
   ],
   "source": [
    "# Creates List for Permutation Matrices\n",
    "\n",
    "l=[]\n",
    "for i in range(4):\n",
    "    list4 = [0,1,2,3]\n",
    "    list3 = list(list4)\n",
    "    list3.remove(i)\n",
    "    for j in list3:\n",
    "        list2 = list(list3)\n",
    "        list2.remove(j)\n",
    "        for k in list2:\n",
    "            list1 = list(list2)\n",
    "            list1.remove(k)\n",
    "            l.append([i,(j+4),(k+8),(list1[0]+12)])\n",
    "\n",
    "print(l)"
   ]
  },
  {
   "cell_type": "code",
   "execution_count": 102,
   "metadata": {},
   "outputs": [],
   "source": [
    "def qRam4FA(qc, DataQ, AdrQ, AncQ, problem_set):\n",
    "    anc = [AncQ[3], AncQ[4], AncQ[5]]\n",
    "    boards = []\n",
    "    for i in range(len(problem_set)):\n",
    "        zeros = [0,0,0,0,0,0,0,0,0,0,0,0,0,0,0,0]\n",
    "        boards.append(zeros)\n",
    "        for j in range(len(problem_set[i])):\n",
    "            problem_set[i][j][0] = int(problem_set[i][j][0])\n",
    "            problem_set[i][j][1] = int(problem_set[i][j][1])\n",
    "            ro = problem_set[i][j][0]\n",
    "            col = problem_set[i][j][1]\n",
    "            index = ro*4 + col\n",
    "            boards[i][index] = 1\n",
    "    for adr in range(16):\n",
    "        bin_adr = [int(x) for x in '{:04b}'.format(adr)]\n",
    "        for i in range(4):\n",
    "            if bin_adr[i] == 0:\n",
    "                qc.x(AdrQ[i])\n",
    "        for i in range(16):\n",
    "            if boards[adr][i] == 1:\n",
    "                qc.mct(control_qubits=AdrQ, target_qubit=DataQ[i], ancilla_qubits=anc, mode='basic')\n",
    "        for i in range(4):\n",
    "            if bin_adr[i] == 0:\n",
    "                qc.x(AdrQ[i])"
   ]
  },
  {
   "cell_type": "code",
   "execution_count": 103,
   "metadata": {},
   "outputs": [],
   "source": [
    "def Oracle4FA(qc, DataQ, FlagQ, AncQ):\n",
    "    for i in range(len(l)):\n",
    "        lsit = []\n",
    "        for j in range(4):\n",
    "            lsit.append(DataQ[(l[i][j])])  \n",
    "        qc.rccx(lsit[0],lsit[1],AncQ[3])\n",
    "        qc.rcccx(lsit[2],lsit[3],AncQ[3],AncQ[0])\n",
    "        qc.rccx(lsit[0],lsit[1],AncQ[3])\n",
    "        qc.cx(AncQ[0], AncQ[1])\n",
    "        qc.x(AncQ[1])\n",
    "        qc.rccx(AncQ[0], AncQ[1], AncQ[2])\n",
    "        qc.x(AncQ[1])\n",
    "        qc.rccx(lsit[0],lsit[1],AncQ[3])\n",
    "        qc.rcccx(lsit[2],lsit[3],AncQ[3],AncQ[0])\n",
    "        qc.rccx(lsit[0],lsit[1],AncQ[3])\n",
    "        \n",
    "    qc.cx(AncQ[1], FlagQ)\n",
    "    qc.cx(AncQ[2], FlagQ)\n",
    "    qc.rccx(AncQ[1], AncQ[2], FlagQ)\n",
    "\n",
    "    for i in range(len(l)):\n",
    "        lsit = []\n",
    "        for j in range(4):\n",
    "            lsit.append(DataQ[(l[(len(l)-i-1)][j])])  \n",
    "        qc.rccx(lsit[0],lsit[1],AncQ[3])\n",
    "        qc.rcccx(lsit[2],lsit[3],AncQ[3],AncQ[0])\n",
    "        qc.rccx(lsit[0],lsit[1],AncQ[3])\n",
    "        qc.x(AncQ[1])\n",
    "        qc.rccx(AncQ[0], AncQ[1], AncQ[2])\n",
    "        qc.x(AncQ[1])\n",
    "        qc.cx(AncQ[0], AncQ[1])\n",
    "        qc.rccx(lsit[0],lsit[1],AncQ[3])\n",
    "        qc.rcccx(lsit[2],lsit[3],AncQ[3],AncQ[0])\n",
    "        qc.rccx(lsit[0],lsit[1],AncQ[3])\n"
   ]
  },
  {
   "cell_type": "code",
   "execution_count": 104,
   "metadata": {},
   "outputs": [],
   "source": [
    "def phase_oracle(n, indices_to_mark, name = 'Oracle'):\n",
    "    qc = QuantumCircuit(n, name=name)\n",
    "    oracle_matrix = np.identity(2**n)\n",
    "    for i in indices_to_mark:\n",
    "        oracle_matrix[i, i] = -1\n",
    "    qc.unitary(Operator(oracle_matrix), range(n))\n",
    "    return qc"
   ]
  },
  {
   "cell_type": "code",
   "execution_count": 105,
   "metadata": {},
   "outputs": [],
   "source": [
    "def diffuser(n):\n",
    "    qc = QuantumCircuit(n, name='Diff - \"V\"')\n",
    "    qc.h(range(n))\n",
    "    qc.append(phase_oracle(n,[0]), range(n))\n",
    "    qc.h(range(n))\n",
    "    return qc"
   ]
  },
  {
   "cell_type": "code",
   "execution_count": 107,
   "metadata": {},
   "outputs": [
    {
     "output_type": "error",
     "ename": "AttributeError",
     "evalue": "'QuantumCircuit' object has no attribute 'compiler'",
     "traceback": [
      "\u001b[0;31m---------------------------------------------------------------------------\u001b[0m",
      "\u001b[0;31mAttributeError\u001b[0m                            Traceback (most recent call last)",
      "\u001b[0;32m<ipython-input-107-a7a6e99a76d2>\u001b[0m in \u001b[0;36m<module>\u001b[0;34m\u001b[0m\n\u001b[1;32m     17\u001b[0m \u001b[0mqc\u001b[0m\u001b[0;34m.\u001b[0m\u001b[0mmeasure\u001b[0m\u001b[0;34m(\u001b[0m\u001b[0mAdrQ\u001b[0m\u001b[0;34m,\u001b[0m \u001b[0mOut\u001b[0m\u001b[0;34m)\u001b[0m\u001b[0;34m\u001b[0m\u001b[0;34m\u001b[0m\u001b[0m\n\u001b[1;32m     18\u001b[0m \u001b[0mqc\u001b[0m \u001b[0;34m=\u001b[0m \u001b[0mqc\u001b[0m\u001b[0;34m.\u001b[0m\u001b[0mreverse_bits\u001b[0m\u001b[0;34m(\u001b[0m\u001b[0;34m)\u001b[0m\u001b[0;34m\u001b[0m\u001b[0;34m\u001b[0m\u001b[0m\n\u001b[0;32m---> 19\u001b[0;31m \u001b[0mqc\u001b[0m\u001b[0;34m.\u001b[0m\u001b[0mcompiler\u001b[0m\u001b[0;34m.\u001b[0m\u001b[0mtranspile\u001b[0m\u001b[0;34m(\u001b[0m\u001b[0;34m)\u001b[0m\u001b[0;34m\u001b[0m\u001b[0;34m\u001b[0m\u001b[0m\n\u001b[0m\u001b[1;32m     20\u001b[0m \u001b[0mresult\u001b[0m \u001b[0;34m=\u001b[0m \u001b[0mexecute\u001b[0m\u001b[0;34m(\u001b[0m\u001b[0mqc\u001b[0m\u001b[0;34m,\u001b[0m \u001b[0mbackend\u001b[0m\u001b[0;34m,\u001b[0m \u001b[0mshots\u001b[0m \u001b[0;34m=\u001b[0m \u001b[0;36m8192\u001b[0m\u001b[0;34m)\u001b[0m\u001b[0;34m.\u001b[0m\u001b[0mresult\u001b[0m\u001b[0;34m(\u001b[0m\u001b[0;34m)\u001b[0m\u001b[0;34m\u001b[0m\u001b[0;34m\u001b[0m\u001b[0m\n\u001b[1;32m     21\u001b[0m \u001b[0mcounts\u001b[0m \u001b[0;34m=\u001b[0m \u001b[0mresult\u001b[0m\u001b[0;34m.\u001b[0m\u001b[0mget_counts\u001b[0m\u001b[0;34m(\u001b[0m\u001b[0;34m)\u001b[0m\u001b[0;34m\u001b[0m\u001b[0;34m\u001b[0m\u001b[0m\n",
      "\u001b[0;31mAttributeError\u001b[0m: 'QuantumCircuit' object has no attribute 'compiler'"
     ]
    }
   ],
   "source": [
    "AdrQ = QuantumRegister(4, name='adr')\n",
    "DataQ = QuantumRegister(16, name='data')\n",
    "FlagQ = QuantumRegister(1, name='flag')\n",
    "AncQ = QuantumRegister(6, name='anc')\n",
    "Out = ClassicalRegister(4, name='out')\n",
    "qc = QuantumCircuit(DataQ, AdrQ, FlagQ, AncQ, Out)\n",
    "\n",
    "qc.x(FlagQ)\n",
    "qc.h(FlagQ)\n",
    "qc.h(AdrQ)\n",
    "\n",
    "qRam4FA(qc, DataQ, AdrQ, AncQ, problem_set)\n",
    "Oracle4FA(qc, DataQ, FlagQ, AncQ)\n",
    "qRam4FA(qc, DataQ, AdrQ, AncQ, problem_set)\n",
    "qc.append(diffuser(4),AdrQ)\n",
    "\n",
    "qc.measure(AdrQ, Out)\n",
    "qc = qc.reverse_bits()\n",
    "qc.compiler.transpile()\n",
    "result = execute(qc, backend, shots = 8192).result()\n",
    "counts = result.get_counts()\n",
    "plot_histogram(counts)"
   ]
  },
  {
   "cell_type": "code",
   "execution_count": 9,
   "metadata": {},
   "outputs": [
    {
     "output_type": "execute_result",
     "data": {
      "text/plain": [
       "         ┌───┐                                                      ┌─┐\n",
       "  adr_0: ┤ H ├──────────────────────────────────────────────────────┤M├\n",
       "         ├───┤                                                   ┌─┐└╥┘\n",
       "  adr_1: ┤ H ├───────────────────────────────────────────────────┤M├─╫─\n",
       "         ├───┤                                                ┌─┐└╥┘ ║ \n",
       "  adr_2: ┤ H ├────────────────────────────────────────────────┤M├─╫──╫─\n",
       "         ├───┤                                             ┌─┐└╥┘ ║  ║ \n",
       "  adr_3: ┤ H ├─────────────────────────────────────────────┤M├─╫──╫──╫─\n",
       "         └───┘                                          ┌─┐└╥┘ ║  ║  ║ \n",
       " data_0: ───────────────────────────────────────────────┤M├─╫──╫──╫──╫─\n",
       "                                                     ┌─┐└╥┘ ║  ║  ║  ║ \n",
       " data_1: ────────────────────────────────────────────┤M├─╫──╫──╫──╫──╫─\n",
       "                                                  ┌─┐└╥┘ ║  ║  ║  ║  ║ \n",
       " data_2: ─────────────────────────────────────────┤M├─╫──╫──╫──╫──╫──╫─\n",
       "                                               ┌─┐└╥┘ ║  ║  ║  ║  ║  ║ \n",
       " data_3: ──────────────────────────────────────┤M├─╫──╫──╫──╫──╫──╫──╫─\n",
       "                                            ┌─┐└╥┘ ║  ║  ║  ║  ║  ║  ║ \n",
       " data_4: ───────────────────────────────────┤M├─╫──╫──╫──╫──╫──╫──╫──╫─\n",
       "                                         ┌─┐└╥┘ ║  ║  ║  ║  ║  ║  ║  ║ \n",
       " data_5: ────────────────────────────────┤M├─╫──╫──╫──╫──╫──╫──╫──╫──╫─\n",
       "                                      ┌─┐└╥┘ ║  ║  ║  ║  ║  ║  ║  ║  ║ \n",
       " data_6: ─────────────────────────────┤M├─╫──╫──╫──╫──╫──╫──╫──╫──╫──╫─\n",
       "                                   ┌─┐└╥┘ ║  ║  ║  ║  ║  ║  ║  ║  ║  ║ \n",
       " data_7: ──────────────────────────┤M├─╫──╫──╫──╫──╫──╫──╫──╫──╫──╫──╫─\n",
       "                                ┌─┐└╥┘ ║  ║  ║  ║  ║  ║  ║  ║  ║  ║  ║ \n",
       " data_8: ───────────────────────┤M├─╫──╫──╫──╫──╫──╫──╫──╫──╫──╫──╫──╫─\n",
       "                             ┌─┐└╥┘ ║  ║  ║  ║  ║  ║  ║  ║  ║  ║  ║  ║ \n",
       " data_9: ────────────────────┤M├─╫──╫──╫──╫──╫──╫──╫──╫──╫──╫──╫──╫──╫─\n",
       "                          ┌─┐└╥┘ ║  ║  ║  ║  ║  ║  ║  ║  ║  ║  ║  ║  ║ \n",
       "data_10: ─────────────────┤M├─╫──╫──╫──╫──╫──╫──╫──╫──╫──╫──╫──╫──╫──╫─\n",
       "                       ┌─┐└╥┘ ║  ║  ║  ║  ║  ║  ║  ║  ║  ║  ║  ║  ║  ║ \n",
       "data_11: ──────────────┤M├─╫──╫──╫──╫──╫──╫──╫──╫──╫──╫──╫──╫──╫──╫──╫─\n",
       "                    ┌─┐└╥┘ ║  ║  ║  ║  ║  ║  ║  ║  ║  ║  ║  ║  ║  ║  ║ \n",
       "data_12: ───────────┤M├─╫──╫──╫──╫──╫──╫──╫──╫──╫──╫──╫──╫──╫──╫──╫──╫─\n",
       "                 ┌─┐└╥┘ ║  ║  ║  ║  ║  ║  ║  ║  ║  ║  ║  ║  ║  ║  ║  ║ \n",
       "data_13: ────────┤M├─╫──╫──╫──╫──╫──╫──╫──╫──╫──╫──╫──╫──╫──╫──╫──╫──╫─\n",
       "              ┌─┐└╥┘ ║  ║  ║  ║  ║  ║  ║  ║  ║  ║  ║  ║  ║  ║  ║  ║  ║ \n",
       "data_14: ─────┤M├─╫──╫──╫──╫──╫──╫──╫──╫──╫──╫──╫──╫──╫──╫──╫──╫──╫──╫─\n",
       "          ┌─┐ └╥┘ ║  ║  ║  ║  ║  ║  ║  ║  ║  ║  ║  ║  ║  ║  ║  ║  ║  ║ \n",
       "data_15: ─┤M├──╫──╫──╫──╫──╫──╫──╫──╫──╫──╫──╫──╫──╫──╫──╫──╫──╫──╫──╫─\n",
       "          └╥┘  ║  ║  ║  ║  ║  ║  ║  ║  ║  ║  ║  ║  ║  ║  ║  ║  ║  ║  ║ \n",
       " out: 20/══╩═══╩══╩══╩══╩══╩══╩══╩══╩══╩══╩══╩══╩══╩══╩══╩══╩══╩══╩══╩═\n",
       "           15  14 13 12 11 10 9  8  7  6  5  4  3  2  1  0  19 18 17 16"
      ],
      "text/html": "<pre style=\"word-wrap: normal;white-space: pre;background: #fff0;line-height: 1.1;font-family: &quot;Courier New&quot;,Courier,monospace\">         ┌───┐                                                      ┌─┐\n  adr_0: ┤ H ├──────────────────────────────────────────────────────┤M├\n         ├───┤                                                   ┌─┐└╥┘\n  adr_1: ┤ H ├───────────────────────────────────────────────────┤M├─╫─\n         ├───┤                                                ┌─┐└╥┘ ║ \n  adr_2: ┤ H ├────────────────────────────────────────────────┤M├─╫──╫─\n         ├───┤                                             ┌─┐└╥┘ ║  ║ \n  adr_3: ┤ H ├─────────────────────────────────────────────┤M├─╫──╫──╫─\n         └───┘                                          ┌─┐└╥┘ ║  ║  ║ \n data_0: ───────────────────────────────────────────────┤M├─╫──╫──╫──╫─\n                                                     ┌─┐└╥┘ ║  ║  ║  ║ \n data_1: ────────────────────────────────────────────┤M├─╫──╫──╫──╫──╫─\n                                                  ┌─┐└╥┘ ║  ║  ║  ║  ║ \n data_2: ─────────────────────────────────────────┤M├─╫──╫──╫──╫──╫──╫─\n                                               ┌─┐└╥┘ ║  ║  ║  ║  ║  ║ \n data_3: ──────────────────────────────────────┤M├─╫──╫──╫──╫──╫──╫──╫─\n                                            ┌─┐└╥┘ ║  ║  ║  ║  ║  ║  ║ \n data_4: ───────────────────────────────────┤M├─╫──╫──╫──╫──╫──╫──╫──╫─\n                                         ┌─┐└╥┘ ║  ║  ║  ║  ║  ║  ║  ║ \n data_5: ────────────────────────────────┤M├─╫──╫──╫──╫──╫──╫──╫──╫──╫─\n                                      ┌─┐└╥┘ ║  ║  ║  ║  ║  ║  ║  ║  ║ \n data_6: ─────────────────────────────┤M├─╫──╫──╫──╫──╫──╫──╫──╫──╫──╫─\n                                   ┌─┐└╥┘ ║  ║  ║  ║  ║  ║  ║  ║  ║  ║ \n data_7: ──────────────────────────┤M├─╫──╫──╫──╫──╫──╫──╫──╫──╫──╫──╫─\n                                ┌─┐└╥┘ ║  ║  ║  ║  ║  ║  ║  ║  ║  ║  ║ \n data_8: ───────────────────────┤M├─╫──╫──╫──╫──╫──╫──╫──╫──╫──╫──╫──╫─\n                             ┌─┐└╥┘ ║  ║  ║  ║  ║  ║  ║  ║  ║  ║  ║  ║ \n data_9: ────────────────────┤M├─╫──╫──╫──╫──╫──╫──╫──╫──╫──╫──╫──╫──╫─\n                          ┌─┐└╥┘ ║  ║  ║  ║  ║  ║  ║  ║  ║  ║  ║  ║  ║ \ndata_10: ─────────────────┤M├─╫──╫──╫──╫──╫──╫──╫──╫──╫──╫──╫──╫──╫──╫─\n                       ┌─┐└╥┘ ║  ║  ║  ║  ║  ║  ║  ║  ║  ║  ║  ║  ║  ║ \ndata_11: ──────────────┤M├─╫──╫──╫──╫──╫──╫──╫──╫──╫──╫──╫──╫──╫──╫──╫─\n                    ┌─┐└╥┘ ║  ║  ║  ║  ║  ║  ║  ║  ║  ║  ║  ║  ║  ║  ║ \ndata_12: ───────────┤M├─╫──╫──╫──╫──╫──╫──╫──╫──╫──╫──╫──╫──╫──╫──╫──╫─\n                 ┌─┐└╥┘ ║  ║  ║  ║  ║  ║  ║  ║  ║  ║  ║  ║  ║  ║  ║  ║ \ndata_13: ────────┤M├─╫──╫──╫──╫──╫──╫──╫──╫──╫──╫──╫──╫──╫──╫──╫──╫──╫─\n              ┌─┐└╥┘ ║  ║  ║  ║  ║  ║  ║  ║  ║  ║  ║  ║  ║  ║  ║  ║  ║ \ndata_14: ─────┤M├─╫──╫──╫──╫──╫──╫──╫──╫──╫──╫──╫──╫──╫──╫──╫──╫──╫──╫─\n          ┌─┐ └╥┘ ║  ║  ║  ║  ║  ║  ║  ║  ║  ║  ║  ║  ║  ║  ║  ║  ║  ║ \ndata_15: ─┤M├──╫──╫──╫──╫──╫──╫──╫──╫──╫──╫──╫──╫──╫──╫──╫──╫──╫──╫──╫─\n          └╥┘  ║  ║  ║  ║  ║  ║  ║  ║  ║  ║  ║  ║  ║  ║  ║  ║  ║  ║  ║ \n out: 20/══╩═══╩══╩══╩══╩══╩══╩══╩══╩══╩══╩══╩══╩══╩══╩══╩══╩══╩══╩══╩═\n           15  14 13 12 11 10 9  8  7  6  5  4  3  2  1  0  19 18 17 16</pre>"
     },
     "metadata": {},
     "execution_count": 9
    }
   ],
   "source": [
    "qc.draw()"
   ]
  },
  {
   "cell_type": "code",
   "execution_count": null,
   "metadata": {},
   "outputs": [],
   "source": []
  }
 ]
}